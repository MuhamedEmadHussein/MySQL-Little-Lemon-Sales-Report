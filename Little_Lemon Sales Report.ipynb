{
 "cells": [
  {
   "attachments": {},
   "cell_type": "markdown",
   "metadata": {},
   "source": [
    "####            <center>** Little Lemon analysis and sales report ** </center>"
   ]
  },
  {
   "attachments": {},
   "cell_type": "markdown",
   "metadata": {},
   "source": [
    "## Task#1"
   ]
  },
  {
   "cell_type": "code",
   "execution_count": 1,
   "metadata": {},
   "outputs": [
    {
     "name": "stdout",
     "output_type": "stream",
     "text": [
      "The connection pool is created with a name:  pool_b\n",
      "The pool size is: 2\n"
     ]
    }
   ],
   "source": [
    "from mysql.connector.pooling import MySQLConnectionPool\n",
    "import mysql.connector as connector\n",
    "\n",
    "dbconfig = {\n",
    "    \"database\":\"little_lemon_db\",\n",
    "    \"user\" : \"root\",\n",
    "    \"password\" : \"\"\n",
    "}\n",
    "\n",
    "try:\n",
    "    pool = MySQLConnectionPool(\n",
    "                        pool_name='pool_b',\n",
    "                        pool_size=2,\n",
    "                        **dbconfig)\n",
    "    print(\"The connection pool is created with a name: \",pool.pool_name)\n",
    "    print(\"The pool size is:\",pool.pool_size)\n",
    "\n",
    "except connector.Error as err:\n",
    "    print(f\"Error Message : {err.msg}\")\n",
    "    print(f\"Error No : {err.errno}\")    "
   ]
  },
  {
   "attachments": {},
   "cell_type": "markdown",
   "metadata": {},
   "source": [
    "## Task#2"
   ]
  },
  {
   "cell_type": "code",
   "execution_count": 2,
   "metadata": {},
   "outputs": [
    {
     "name": "stdout",
     "output_type": "stream",
     "text": [
      "Getting a connection from the pool.\n",
      "'connection1' object is created with a connection from the pool\n"
     ]
    }
   ],
   "source": [
    "# Get the connection from the connection pool \"pool\"\n",
    "print(\"Getting a connection from the pool.\")\n",
    "connection1 = pool.get_connection()\n",
    "print(\"'connection1' object is created with a connection from the pool\")\n",
    "insert_bookings=\"\"\"\n",
    "                INSERT INTO Bookings (TableNo, GuestFirstName, GuestLastName,\n",
    "                BookingSlot, EmployeeID)\n",
    "                VALUES\n",
    "                (8, 'Anees','Java','18:00:00',6)\n",
    "                \"\"\"\n",
    "cursor = connection1.cursor()\n",
    "cursor.execute(\"USE little_lemon_db\")\n",
    "cursor.execute(insert_bookings)      \n",
    "connection1.commit()      "
   ]
  },
  {
   "cell_type": "code",
   "execution_count": 3,
   "metadata": {},
   "outputs": [
    {
     "name": "stdout",
     "output_type": "stream",
     "text": [
      "Getting a connection from the pool.\n",
      "'connection2' object is created with a connection from the pool\n"
     ]
    }
   ],
   "source": [
    "# Get the connection from the connection pool \"pool\"\n",
    "print(\"Getting a connection from the pool.\")\n",
    "connection2 = pool.get_connection()\n",
    "print(\"'connection2' object is created with a connection from the pool\")\n",
    "insert_bookings=\"\"\"\n",
    "                INSERT INTO Bookings (TableNo, GuestFirstName, GuestLastName,\n",
    "                BookingSlot, EmployeeID)\n",
    "                VALUES\n",
    "                (5, 'Bald','Vin','19:00:00',6)\n",
    "                \"\"\"\n",
    "cursor = connection2.cursor()\n",
    "cursor.execute(\"USE little_lemon_db\")\n",
    "cursor.execute(insert_bookings)      \n",
    "connection2.commit()                  \n"
   ]
  },
  {
   "cell_type": "code",
   "execution_count": 4,
   "metadata": {},
   "outputs": [
    {
     "name": "stdout",
     "output_type": "stream",
     "text": [
      "Getting a connection from the pool.\n",
      "Connection Pool ERROR : Failed getting connection; pool exhausted\n",
      "No More Connections Are Available. \n",
      "\n",
      "Adding New Connection in the pool\n",
      "A new connection is added in the pool.\n",
      "\n",
      "Getting a connection from the pool.\n",
      "'connection3' object is created with a connection from the pool\n"
     ]
    }
   ],
   "source": [
    "# Get the connection from the connection pool \"pool\"\n",
    "try:        \n",
    "    print(\"Getting a connection from the pool.\")\n",
    "    connection3 = pool.get_connection()\n",
    "    print(\"'connection3' object is created with a connection from the pool\")         \n",
    "    \n",
    "except connector.Error as err:\n",
    "    print(f\"Connection Pool ERROR : {err.msg}\")\n",
    "    print(\"No More Connections Are Available. \\n\")\n",
    "    print(\"Adding New Connection in the pool\") \n",
    "    connection = connector.connect(user=\"root\",password=\"\")\n",
    "    pool.add_connection(cnx=connection)\n",
    "    print(\"A new connection is added in the pool.\\n\")    \n",
    "    print(\"Getting a connection from the pool.\")\n",
    "    connection3 = pool.get_connection()\n",
    "    print(\"'connection3' object is created with a connection from the pool\")\n",
    "    \n",
    "    \n",
    "insert_bookings=\"\"\"\n",
    "                INSERT INTO Bookings (TableNo, GuestFirstName, GuestLastName,\n",
    "                BookingSlot, EmployeeID)\n",
    "                VALUES\n",
    "                (12, 'Jay','Kon','19:30:00',6)\n",
    "                \"\"\"\n",
    "cursor = connection3.cursor()\n",
    "cursor.execute(\"USE little_lemon_db\")\n",
    "cursor.execute(insert_bookings)      \n",
    "connection3.commit()                 \n"
   ]
  },
  {
   "cell_type": "code",
   "execution_count": 5,
   "metadata": {},
   "outputs": [
    {
     "name": "stdout",
     "output_type": "stream",
     "text": [
      "Connection is returned to the pool\n",
      "Connection is returned to the pool\n",
      "\n",
      "Connection can't be returned to the pool\n",
      "Error message: Failed adding connection; queue is full\n"
     ]
    }
   ],
   "source": [
    "for connection in [connection1,connection2, connection3]:\n",
    "    try:\n",
    "        connection.close()\n",
    "        print(\"Connection is returned to the pool\")\n",
    "    except connector.Error as err:\n",
    "        print(\"\\nConnection can't be returned to the pool\")\n",
    "        print(\"Error message:\", err.msg)\n"
   ]
  },
  {
   "attachments": {},
   "cell_type": "markdown",
   "metadata": {},
   "source": [
    "## Task#3"
   ]
  },
  {
   "cell_type": "code",
   "execution_count": 6,
   "metadata": {},
   "outputs": [],
   "source": [
    "select_employee_manager = \"\"\"\n",
    "SELECT EmployeeID,Name FROM Employees\n",
    "WHERE Role = 'Manager'; \n",
    "\"\"\"\n",
    "\n",
    "select_employee_highest_Salary = \"\"\"\n",
    "SELECT Name,Role FROM Employees\n",
    "ORDER BY Annual_Salary DESC\n",
    "LIMIT 1;\n",
    "\"\"\"\n",
    "\n",
    "select_count_booking_slot = \"\"\"\n",
    "SELECT COUNT(BookingID) AS 'Number of Guests' FROM Bookings\n",
    "WHERE BookingSlot BETWEEN '18:00:00' AND '20:00:00';\n",
    "\"\"\"\n",
    "\n",
    "select_guests_info = \"\"\"\n",
    "SELECT BookingID, CONCAT(GuestFirstName,' ',GuestLastName) AS GuestFullName\n",
    "FROM Bookings\n",
    "ORDER BY BookingSlot ASC;\n",
    "\"\"\""
   ]
  },
  {
   "cell_type": "code",
   "execution_count": 7,
   "metadata": {},
   "outputs": [
    {
     "name": "stdout",
     "output_type": "stream",
     "text": [
      "The name and EmployeeID of the Little Lemon manager : \n",
      "\n",
      "('EmployeeID', 'Name')\n",
      "(1, 'Mario Gollini')\n"
     ]
    }
   ],
   "source": [
    "#The name and EmployeeID of the Little Lemon manager.\n",
    "cursor.execute(select_employee_manager)\n",
    "result = cursor.fetchall()\n",
    "cols = cursor.column_names\n",
    "print(\"The name and EmployeeID of the Little Lemon manager : \\n\")\n",
    "print(cols)\n",
    "for res in result:\n",
    "    print(res)"
   ]
  },
  {
   "cell_type": "code",
   "execution_count": 8,
   "metadata": {},
   "outputs": [
    {
     "name": "stdout",
     "output_type": "stream",
     "text": [
      "The name and role of the employee who receives the highest salary : \n",
      "\n",
      "('Name', 'Role')\n",
      "('Mario Gollini', 'Manager')\n"
     ]
    }
   ],
   "source": [
    "#The name and role of the employee who receives the highest salary.\n",
    "cursor.execute(select_employee_highest_Salary)\n",
    "result = cursor.fetchall()\n",
    "cols = cursor.column_names\n",
    "print(\"The name and role of the employee who receives the highest salary : \\n\")\n",
    "print(cols)\n",
    "for res in result:\n",
    "    print(res)"
   ]
  },
  {
   "cell_type": "code",
   "execution_count": 9,
   "metadata": {},
   "outputs": [
    {
     "name": "stdout",
     "output_type": "stream",
     "text": [
      "The number of guests booked between 18:00 and 20:00 : \n",
      "\n",
      "('Number of Guests',)\n",
      "(7,)\n"
     ]
    }
   ],
   "source": [
    "#The number of guests booked between 18:00 and 20:00.\n",
    "cursor.execute(select_count_booking_slot)\n",
    "result = cursor.fetchall()\n",
    "cols = cursor.column_names\n",
    "print(\"The number of guests booked between 18:00 and 20:00 : \\n\")\n",
    "print(cols)\n",
    "for res in result:\n",
    "    print(res)"
   ]
  },
  {
   "cell_type": "code",
   "execution_count": 10,
   "metadata": {},
   "outputs": [
    {
     "name": "stdout",
     "output_type": "stream",
     "text": [
      "The full name and BookingID of all guests waiting to be seated with the receptionist in sorted order with respect to their BookingSlot : \n",
      "\n",
      "('BookingID', 'GuestFullName')\n",
      "(3, 'Vanessa McCarthy')\n",
      "(4, 'Marcos Romero')\n",
      "(7, 'Anees Java')\n",
      "(5, 'Hiroki Yamane')\n",
      "(1, 'Anna Iversen')\n",
      "(2, 'Joakim Iversen')\n",
      "(8, 'Bald Vin')\n",
      "(9, 'Jay Kon')\n",
      "(6, 'Diana Pinto')\n"
     ]
    }
   ],
   "source": [
    "# The full name and BookingID of all guests waiting \n",
    "# to be seated with the receptionist in sorted order with respect to their BookingSlot.\n",
    "cursor.execute(select_guests_info)\n",
    "result = cursor.fetchall()\n",
    "cols = cursor.column_names\n",
    "print(\"The full name and BookingID of all guests waiting to be seated with the receptionist in sorted order with respect to their BookingSlot : \\n\")\n",
    "print(cols)\n",
    "for res in result:\n",
    "    print(res)"
   ]
  },
  {
   "attachments": {},
   "cell_type": "markdown",
   "metadata": {},
   "source": [
    "## Task#4"
   ]
  },
  {
   "cell_type": "code",
   "execution_count": 11,
   "metadata": {},
   "outputs": [],
   "source": [
    "cursor.execute(\"DROP PROCEDURE IF EXISTS BasicSalesReport\")"
   ]
  },
  {
   "cell_type": "code",
   "execution_count": 12,
   "metadata": {},
   "outputs": [],
   "source": [
    "select_stats = \"\"\"\n",
    "CREATE PROCEDURE IF NOT EXISTS BasicSalesReport()\n",
    "BEGIN\n",
    "SELECT \n",
    "SUM(BillAmount) AS 'Total Sales',\n",
    "AVG(BillAmount) AS 'Average sale',\n",
    "MIN(BillAmount) AS 'Minimum bill paid',\n",
    "MAX(BillAmount) AS 'Maximum bill paid'\n",
    "FROM Orders;\n",
    "END\n",
    "\"\"\""
   ]
  },
  {
   "cell_type": "code",
   "execution_count": 13,
   "metadata": {},
   "outputs": [
    {
     "name": "stdout",
     "output_type": "stream",
     "text": [
      "Sales Statistics : \n",
      "\n",
      "('Total Sales', 'Average sale', 'Minimum bill paid', 'Maximum bill paid')\n",
      "(Decimal('243'), Decimal('48.6000'), 37, 86)\n"
     ]
    }
   ],
   "source": [
    "cursor.execute(select_stats)\n",
    "cursor.callproc(\"BasicSalesReport\")\n",
    "results = next(cursor.stored_results())\n",
    "dataset = results.fetchall()\n",
    "cols = results.column_names\n",
    "print(\"Sales Statistics : \\n\")\n",
    "print(cols)\n",
    "for data in dataset:\n",
    "    print(data)"
   ]
  },
  {
   "cell_type": "code",
   "execution_count": 14,
   "metadata": {},
   "outputs": [
    {
     "name": "stdout",
     "output_type": "stream",
     "text": [
      "Today's sales report:\n",
      "\t Total Sales : 243\n",
      "\t Average sale : 48.6000\n",
      "\t Minimum bill paid : 37\n",
      "\t Maximum bill paid : 86\n"
     ]
    }
   ],
   "source": [
    "for column_id in cursor.stored_results():\n",
    "    cols = [column[0] for column in column_id.description]\n",
    "\n",
    "    \n",
    "print(\"Today's sales report:\")\n",
    "for result in dataset:\n",
    "    print(\"\\t\",cols[0],\":\",result[0])\n",
    "    print(\"\\t\",cols[1],\":\",result[1])\n",
    "    print(\"\\t\",cols[2],\":\",result[2])\n",
    "    print(\"\\t\",cols[3],\":\",result[3])"
   ]
  },
  {
   "attachments": {},
   "cell_type": "markdown",
   "metadata": {},
   "source": [
    "## Task#5"
   ]
  },
  {
   "cell_type": "code",
   "execution_count": 23,
   "metadata": {},
   "outputs": [
    {
     "name": "stdout",
     "output_type": "stream",
     "text": [
      "('BookingSlot', 'Guest_Name', 'Employee_Name', 'Employee_Role')\n",
      "\n",
      " Booking Slot: 15:00:00\n",
      "\tGuest Name: Vanessa McCarthy \n",
      "\t Assigned To: Giorgos Dioudis  [Head Chef]\n",
      "\n",
      " Booking Slot: 17:30:00\n",
      "\tGuest Name: Marcos Romero \n",
      "\t Assigned To: Fatma Kaya  [Assistant Chef]\n",
      "\n",
      " Booking Slot: 18:00:00\n",
      "\tGuest Name: Anees Java \n",
      "\t Assigned To: John Millar  [Receptionist]\n",
      "Connection is returned to the pool\n"
     ]
    }
   ],
   "source": [
    "connection = pool.get_connection()\n",
    "\n",
    "cursor = connection.cursor(buffered= True)\n",
    "cursor.execute(\"USE little_lemon_db\")\n",
    "\n",
    "query = \"\"\"\n",
    "SELECT \n",
    "Bookings.BookingSlot,\n",
    "CONCAT(Bookings.GuestFirstName,\" \",Bookings.GuestLastName) AS Guest_Name,\n",
    "Employees.Name AS Employee_Name,\n",
    "Employees.Role AS Employee_Role\n",
    "FROM Bookings\n",
    "INNER JOIN Employees ON Bookings.EmployeeID = Employees.EmployeeID\n",
    "ORDER BY Bookings.BookingSlot ASC;\n",
    "\"\"\"\n",
    "\n",
    "cursor.execute(query)\n",
    "\n",
    "results=cursor.fetchmany(size=3)\n",
    "\n",
    "\n",
    "cols = cursor.column_names\n",
    "for result in results:\n",
    "    print(f\"\\n Booking Slot: {result[0]}\")\n",
    "    print(f\"\\tGuest Name: {result[1]} \")\n",
    "    print(f\"\\t Assigned To: {result[2]}  [{result[3]}]\")  \n",
    "    \n",
    "try:\n",
    "    connection.close()\n",
    "    print(\"Connection is returned to the pool\")\n",
    "except connector.Error as err:\n",
    "    print(\"\\nConnection can't be returned to the pool\")\n",
    "    print(\"Error message:\", err.msg)    "
   ]
  }
 ],
 "metadata": {
  "kernelspec": {
   "display_name": "Python 3",
   "language": "python",
   "name": "python3"
  },
  "language_info": {
   "codemirror_mode": {
    "name": "ipython",
    "version": 3
   },
   "file_extension": ".py",
   "mimetype": "text/x-python",
   "name": "python",
   "nbconvert_exporter": "python",
   "pygments_lexer": "ipython3",
   "version": "3.9.5"
  },
  "orig_nbformat": 4
 },
 "nbformat": 4,
 "nbformat_minor": 2
}
